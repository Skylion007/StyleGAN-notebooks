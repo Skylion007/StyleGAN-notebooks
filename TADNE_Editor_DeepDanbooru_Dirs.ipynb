{
 "cells": [
  {
   "cell_type": "markdown",
   "metadata": {
    "id": "PtOVza7H9z3Y"
   },
   "source": [
    "# This Anime Does Not Exist - DeepDanbooru Editor \n",
    "\n",
    "\n",
    "### To run:\n",
    "**Click \"Open in Playground\" above (if you see that option) and then Runtime > Run All and wait a few minutes for everything to load. (Takes about 4 minutes)**\n",
    "\n",
    "\n",
    "---\n",
    "\n",
    "\n",
    "### Credits\n",
    "\n",
    "Customizable anime images using [aydao](https://twitter.com/aydaoAI)'s anime StyleGAN2 model from [TADNE](https://thisanimedoesnotexist.ai/).\n",
    "\n",
    "Latent directions were discovered using [@Skyli0n](https://twitter.com/skyli0n)'s [DeepDanbooru](https://github.com/KichangKim/DeepDanbooru) notebook.\n",
    "\n",
    "\n",
    "Notebook by [arfa](https://twitter.com/arfafax) and [@Skyli0n](https://twitter.com/skyli0n)\n",
    "\n",
    "\n",
    "<div>\n",
    "<a href=\"https://www.twitter.com/arfafax\">\n",
    "<img src=\"https://thisfursonadoesnotexist.com/arfa_sig.png\" width=\"350\"/>\n",
    "</a>\n",
    "</div>\n",
    "<div>\n"
   ]
  },
  {
   "cell_type": "markdown",
   "metadata": {
    "id": "Vutcv21e5DMC"
   },
   "source": [
    "## <- Click the triangle to view the code while you wait for it to load\n"
   ]
  },
  {
   "cell_type": "code",
   "execution_count": null,
   "metadata": {
    "id": "Ixs37iA-Mxf2"
   },
   "outputs": [],
   "source": [
    "%tensorflow_version 1.x\n",
    "!git clone https://github.com/shawwn/stylegan2 -b estimator /content/stylegan2 --depth 1"
   ]
  },
  {
   "cell_type": "code",
   "execution_count": null,
   "metadata": {
    "id": "pXcjXwwhzJOW"
   },
   "outputs": [],
   "source": [
    "import gdown\n",
    "gdown.download('https://drive.google.com/uc?id=1A-E_E32WAtTHRlOzjhhYhyyBDXLJN9_H', 'network-tadne.pkl', quiet=False)\n",
    "gdown.download('https://drive.google.com/uc?id=1x9cD_MV3UVboqnlpq9ZPWQ-kvFzxOGaz', 'deepdanbooru_dirs.pkl', quiet=False)\n",
    "gdown.download('https://drive.google.com/uc?id=1X2EEI9_bhAD8diPGB4n-JMxkFdG-AN2E', 'tadne-directions.zip', quiet=False)\n",
    "%mkdir /content/directions\n",
    "!unzip -o /content/tadne-directions.zip"
   ]
  },
  {
   "cell_type": "code",
   "execution_count": null,
   "metadata": {
    "id": "w_diRM7Fn1Pa"
   },
   "outputs": [],
   "source": [
    "%cd /content/stylegan2"
   ]
  },
  {
   "cell_type": "code",
   "execution_count": null,
   "metadata": {
    "id": "Pt4kvzEM39oI"
   },
   "outputs": [],
   "source": [
    "import os\n",
    "import pickle\n",
    "import numpy as np\n",
    "import PIL.Image\n",
    "import dnnlib\n",
    "import dnnlib.tflib as tflib\n",
    "import scipy\n",
    "import tensorflow as tf\n",
    "import tflex"
   ]
  },
  {
   "cell_type": "code",
   "execution_count": null,
   "metadata": {
    "id": "8coaz5KZeFum"
   },
   "outputs": [],
   "source": [
    "if 'COLAB_TPU_ADDR' in os.environ:\n",
    "    os.environ['TPU_NAME'] = 'grpc://' + os.environ['COLAB_TPU_ADDR']\n",
    "    os.environ['NOISY'] = '1'"
   ]
  },
  {
   "cell_type": "code",
   "execution_count": null,
   "metadata": {
    "id": "Mg9DrxVNJ8am"
   },
   "outputs": [],
   "source": [
    "tflib.init_tf()\n",
    "sess = tf.get_default_session()\n",
    "sess.list_devices()\n",
    "cores = tflex.get_cores()\n",
    "tflex.set_override_cores(cores)\n",
    "_G, _D, Gs = pickle.load(open(\"/content/network-tadne.pkl\", \"rb\"))"
   ]
  },
  {
   "cell_type": "code",
   "execution_count": null,
   "metadata": {
    "id": "Zh5l7AqyI_7u"
   },
   "outputs": [],
   "source": [
    " def generate_image_from_w(w, truncation_psi):\n",
    "    with tflex.device('/gpu:0'):\n",
    "        noise_vars = [var for name, var in Gs.components.synthesis.vars.items() if name.startswith('noise')]\n",
    "        Gs_kwargs = dnnlib.EasyDict()\n",
    "        Gs_kwargs.output_transform = dict(func=tflib.convert_images_to_uint8, nchw_to_nhwc=True)\n",
    "        Gs_kwargs.randomize_noise = False\n",
    "        if truncation_psi is not None:\n",
    "            Gs_kwargs.truncation_psi = truncation_psi\n",
    "        synthesis_kwargs = dict(output_transform=Gs_kwargs.output_transform, truncation_psi=truncation_psi, minibatch_size=1)\n",
    "        images = Gs.components.synthesis.run(w, randomize_noise=False, **synthesis_kwargs)\n",
    "        display(PIL.Image.fromarray(images[0], 'RGB').resize((500,500),Image.LANCZOS))"
   ]
  },
  {
   "cell_type": "code",
   "execution_count": null,
   "metadata": {
    "id": "v4wPiBLagZHM"
   },
   "outputs": [],
   "source": [
    "import pickle\r\n",
    "deepdanbooru_dirs = pickle.load(open('/content/deepdanbooru_dirs.pkl', 'rb'))"
   ]
  },
  {
   "cell_type": "code",
   "execution_count": null,
   "metadata": {
    "id": "HtcWafPjg3yV"
   },
   "outputs": [],
   "source": [
    "named_directions = {}\r\n",
    "latent_dirs = []\r\n",
    "starts = []\r\n",
    "ends = []\r\n",
    "\r\n",
    "comp = 0\r\n",
    "#TODO only use the most useful\r\n",
    "for tag, vec in deepdanbooru_dirs.items():\r\n",
    "    print(tag)\r\n",
    "    for layers in [(0, 6), (6, 12), (12, 16)]:\r\n",
    "        print(layers[0], layers[1])\r\n",
    "        name = tag + \"-\" + str(layers[0]) + \"-\" + str(layers[1])\r\n",
    "        named_directions[f'{name}'] = [comp, int(layers[0]), int(layers[1]), f'{name}']\r\n",
    "    latent_dirs.append(np.matrix(vec[0]))\r\n",
    "    comp = comp + 1\r\n",
    "    #if comp > 50:\r\n",
    "    #    break\r\n",
    "named_directions"
   ]
  },
  {
   "cell_type": "code",
   "execution_count": null,
   "metadata": {
    "id": "-OSkc-vFALMM"
   },
   "outputs": [],
   "source": [
    "len(named_directions)"
   ]
  },
  {
   "cell_type": "code",
   "execution_count": null,
   "metadata": {
    "id": "6N_8gJsZiMxB"
   },
   "outputs": [],
   "source": [
    "import yaml\n",
    "%mkdir /content/animations\n",
    "%cd /content/animations"
   ]
  },
  {
   "cell_type": "markdown",
   "metadata": {
    "id": "YtukNhESJ_b_"
   },
   "source": [
    "# UI"
   ]
  },
  {
   "cell_type": "code",
   "execution_count": null,
   "metadata": {
    "id": "Jf1NZHlaKBGV"
   },
   "outputs": [],
   "source": [
    "#@title Run UI (make sure you've done Runtime > Run All first or it won't work)\n",
    "from ipywidgets import fixed\n",
    "import PIL\n",
    "import numpy as np\n",
    "import ipywidgets as widgets\n",
    "from PIL import Image\n",
    "from IPython.display import clear_output\n",
    "from ipywidgets import Layout, Button, Box, VBox, Label\n",
    "\n",
    "box_layout = Layout(overflow='scroll hidden',\n",
    "                    border='3px solid black',\n",
    "                    width='',\n",
    "                    height=\"500px\")\n",
    "def normalize(v):\n",
    "    norm=np.linalg.norm(v, ord=2)\n",
    "    if norm==0:\n",
    "        norm=np.finfo(v.dtype).eps\n",
    "    return v/norm * len(v)\n",
    "\n",
    "loaded_w = None\n",
    "def display_sample(seed, truncation, direction, distance, scale, start, end, update, disp=True, save=None, noise_spec=None, **args):\n",
    "    global loaded_w\n",
    "    if update == False:\n",
    "        print(\"False\")\n",
    "    # blockPrint()\n",
    "    rng = np.random.RandomState(seed)\n",
    "    z = rng.standard_normal(*Gs.input_shape[1:]).reshape(1, *Gs.input_shape[1:])\n",
    "    noise_vars = [var for name, var in Gs.components.synthesis.vars.items() if name.startswith('noise')]\n",
    "    Gs_kwargs = dnnlib.EasyDict()\n",
    "    Gs_kwargs.randomize_noise = False\n",
    "\n",
    "    all_w = Gs.components.mapping.run(z, None, **Gs_kwargs) # [minibatch, layer, component]\n",
    "    if loaded_w is not None:\n",
    "      all_w = loaded_w.copy()\n",
    "    \n",
    "    for i, item in enumerate(args):\n",
    "        value = args[item]\n",
    "        start_l = named_directions[item][1]\n",
    "        end_l = min(16, named_directions[item][2])\n",
    "        direction_l = normalize(latent_dirs[named_directions[item][0]])\n",
    "        for l in range(start_l, end_l):\n",
    "            all_w[0][l] = all_w[0][l] + direction_l * value * scale\n",
    "\n",
    "    if truncation != 1:\n",
    "        w_avg = Gs.get_var('dlatent_avg')\n",
    "        all_w = w_avg + (all_w - w_avg) * truncation # [minibatch, layer, component]\n",
    "\n",
    "    generate_image_from_w(all_w, truncation)\n",
    "\n",
    "seed = np.random.randint(0,100000)\n",
    "style = {'description_width': 'initial', 'width': '150px'}\n",
    "row_length = 6\n",
    "\n",
    "seed = widgets.IntSlider(min=0, max=100000, step=1, value=seed, description='Seed: ', continuous_update=False)\n",
    "truncation = widgets.FloatSlider(min=0, max=2, step=0.1, value=0.7, description='Truncation: ', continuous_update=False)\n",
    "distance = widgets.FloatSlider(min=-10, max=10, step=0.1, value=0, description='Distance: ', continuous_update=False, style=style)\n",
    "scale = widgets.FloatSlider(min=0, max=10, step=0.05, value=1, description='Scale: ', continuous_update=False)\n",
    "start_layer = widgets.IntSlider(min=0, max=18, step=1, value=18, description='start layer: ', continuous_update=False)\n",
    "end_layer = widgets.IntSlider(min=0, max=18, step=1, value=18, description='end layer: ', continuous_update=False)\n",
    "\n",
    "\n",
    "update = widgets.Checkbox(value=True, description=\"update\")\n",
    "\n",
    "directions_list = []\n",
    "params = {'seed': seed, 'truncation': truncation, 'direction': fixed(0), 'distance': distance, 'scale': scale, 'start': start_layer, 'end': end_layer, 'update' : update}\n",
    "\n",
    "for i, item in enumerate(named_directions):\n",
    "    name = named_directions[item][3]\n",
    "    widget = widgets.FloatSlider(min=-20, max=20, step=0.1, value=0, description=name + ': ', continuous_update=False, style=style, layout={'width' : 'auto'})\n",
    "    directions_list.append(widget)\n",
    "    params[item] = widget\n",
    "\n",
    "top_box = widgets.HBox([seed, truncation])\n",
    "#rename_dropdown = widgets.Dropdown(options=named_directions.keys())\n",
    "#rename_box = widgets.Text()\n",
    "#rename = widgets.Button(description=\"Rename\")\n",
    "#bot_box = widgets.HBox([rename_dropdown, rename_box, rename])\n",
    "\n",
    "ui = widgets.VBox([top_box])\n",
    "\n",
    "grid = widgets.GridspecLayout(len(directions_list)//3, 3, width='90%', height=\"300px\")\n",
    "for i in range(len(directions_list)//3):\n",
    "    for j in range(3):\n",
    "        grid[i, j] = directions_list[3*i+j]\n",
    "    \n",
    "ui2 = grid\n",
    "\n",
    "\n",
    "random = widgets.Button(description=\"Randomize Sliders\")\n",
    "reset = widgets.Button(description=\"Reset Sliders\")\n",
    "def reset_sliders(b):\n",
    "    directions_list = []\n",
    "    params_new = {'seed': seed, 'truncation': truncation, 'direction': fixed(0), 'distance': distance, 'scale': scale, 'start': start_layer, 'end': end_layer, 'update' : update}\n",
    "    for i, item in enumerate(named_directions):\n",
    "        name = named_directions[item][3]\n",
    "        widget = widgets.FloatSlider(min=-20, max=20, step=0.1, value=0, description=name + ': ', continuous_update=False, style=style, layout={'width' : 'auto'})\n",
    "        directions_list.append(widget)\n",
    "        params_new[item] = widget\n",
    "    params = params_new\n",
    "    grid = widgets.GridspecLayout(len(directions_list)//3, 3, width='90%', height=\"300px\")\n",
    "    for i in range(len(directions_list)//3):\n",
    "        for j in range(3):\n",
    "            grid[i, j] = directions_list[3*i+j]\n",
    "        \n",
    "    ui2 = grid\n",
    "    clear_output()\n",
    "    out = widgets.interactive_output(display_sample, params)\n",
    "    #last_button = mobile\n",
    "    #if row_length == 1:\n",
    "    #    last_button = desktop\n",
    "    display(ui, out, ui2, reset, random, widgets.HBox([save_name, save_btn]), widgets.HBox([load_name, load_btn]))\n",
    "\n",
    "def random_sliders(b):\n",
    "    directions_list = []\n",
    "    params_new = {'seed': seed, 'truncation': truncation, 'direction': fixed(0), 'distance': distance, 'scale': scale, 'start': start_layer, 'end': end_layer, 'update' : update}\n",
    "    for i, item in enumerate(named_directions):\n",
    "        name = named_directions[item][3]\n",
    "        widget = widgets.FloatSlider(min=-20, max=20, step=0.1, value=np.random.normal(scale=2.5), description=name + ': ', continuous_update=False, style=style, layout={'width' : 'auto'})\n",
    "        directions_list.append(widget)\n",
    "        params_new[item] = widget\n",
    "    params = params_new\n",
    "    grid = widgets.GridspecLayout(len(directions_list)//3, 3, width='90%', height=\"300px\")\n",
    "    for i in range(len(directions_list)//3):\n",
    "        for j in range(3):\n",
    "            grid[i, j] = directions_list[3*i+j]\n",
    "        \n",
    "    ui2 = grid\n",
    "    clear_output()\n",
    "    out = widgets.interactive_output(display_sample, params)\n",
    "    #last_button = mobile\n",
    "    #if row_length == 1:\n",
    "    #    last_button = desktop\n",
    "    display(ui, out, ui2, reset, random, widgets.HBox([save_name, save_btn]), widgets.HBox([load_name, load_btn]))\n",
    "\n",
    "save_name = widgets.Text()\n",
    "load_name = widgets.Text()\n",
    "save_btn = widgets.Button(description=\"Save\")\n",
    "load_btn = widgets.Button(description=\"Load\")\n",
    "\n",
    "def load_w(b):\n",
    "    global loaded_w\n",
    "    print(\"Loading \", load_name.value + \".npy\")\n",
    "    loaded_w = np.load(load_name.value + \".npy\")\n",
    "\n",
    "def save_w(b):\n",
    "    global loaded_w\n",
    "    rng = np.random.RandomState(params['seed'].value)\n",
    "    z = rng.standard_normal(*Gs.input_shape[1:]).reshape(1, *Gs.input_shape[1:])\n",
    "\n",
    "    noise_vars = [var for name, var in Gs.components.synthesis.vars.items() if name.startswith('noise')]\n",
    "    Gs_kwargs = dnnlib.EasyDict()\n",
    "    Gs_kwargs.randomize_noise = False\n",
    "\n",
    "    all_w = Gs.components.mapping.run(z, None, **Gs_kwargs) # [minibatch, layer, component]\n",
    "    if loaded_w is not None:\n",
    "        all_w = loaded_w.copy()\n",
    "\n",
    "    for i, item in enumerate(params):\n",
    "        if item not in ['seed', 'truncation', 'direction', 'distance', 'scale', 'start', 'end', 'update']:\n",
    "            value = params[item].value\n",
    "            start_l = named_directions[item][1]\n",
    "            end_l = min(16, named_directions[item][2])\n",
    "            direction_l = normalize(latent_dirs[named_directions[item][0]])\n",
    "            for l in range(start_l, end_l):\n",
    "                all_w[0][l] = all_w[0][l] + direction_l * value * params['scale'].value\n",
    "\n",
    "    if truncation != 1:\n",
    "        w_avg = Gs.get_var('dlatent_avg')\n",
    "        all_w = w_avg + (all_w - w_avg) * params['truncation'].value # [minibatch, layer, component]\n",
    "\n",
    "    from datetime import datetime\n",
    "    now = datetime.now()\n",
    "\n",
    "    out_name = now.isoformat()\n",
    "    \n",
    "    if save_name.value:\n",
    "        out_name = save_name.value\n",
    "    np.save(out_name + \".npy\", all_w)\n",
    "    print(\"saved \", out_name + \".npy\")\n",
    "\n",
    "random.on_click(random_sliders)\n",
    "reset.on_click(reset_sliders)\n",
    "save_btn.on_click(save_w)\n",
    "load_btn.on_click(load_w)\n",
    "out = widgets.interactive_output(display_sample, params)\n",
    "display(ui, out, ui2, reset, random, widgets.HBox([save_name, save_btn]), widgets.HBox([load_name, load_btn]))\n",
    "\n"
   ]
  },
  {
   "cell_type": "markdown",
   "metadata": {
    "id": "RIW4gdO1cjnm"
   },
   "source": [
    "# Animation stuff"
   ]
  },
  {
   "cell_type": "code",
   "execution_count": null,
   "metadata": {
    "id": "dcOUM7ZnclE6"
   },
   "outputs": [],
   "source": [
    "import math\n",
    "from PIL import ImageFont\n",
    "from PIL import ImageDraw\n",
    "def interpolate_between_ws(seed_array, truncation=0.5, duration_sec = 12.0, smoothing_sec = 1.0, mp4_fps = 20, filename=None, text=False):\n",
    "    #_G, _D, Gs = pickle.load(open(\"/content/network-e621.pkl\", \"rb\"))\n",
    "    Gs_kwargs = dnnlib.EasyDict()\n",
    "    Gs_kwargs.output_transform = dict(func=tflib.convert_images_to_uint8, nchw_to_nhwc=True)\n",
    "    Gs_kwargs.randomize_noise = False\n",
    "    synthesis_kwargs = dict(output_transform=Gs_kwargs.output_transform, truncation_psi=truncation, minibatch_size=8)\n",
    "    noise_vars = [var for name, var in Gs.components.synthesis.vars.items() if name.startswith('noise')]\n",
    "    #if seed_array[0] != seed_array[-1]:\n",
    "    #    seed_array.append(seed_array[0])\n",
    "    \n",
    "\n",
    "    all_w = seed_array\n",
    "        \n",
    "    num_frames = int(np.rint(duration_sec * mp4_fps))\n",
    "        \n",
    "    def make_frame(t):\n",
    "        blend = ((len(seed_array)-1)*t/duration_sec)%1.0\n",
    "        src_i = math.floor((t/duration_sec)*(len(seed_array)-1))\n",
    "        dst_i = src_i + 1\n",
    "        #print(t, blend, src_i, dst_i)\n",
    "        all_w_new = (blend * all_w[dst_i]) + (1 - blend) * all_w[src_i]\n",
    "        all_images_src = Gs.components.synthesis.run(all_w_new, randomize_noise=False, **synthesis_kwargs)\n",
    "        #all_images_dst = Gs.components.synthesis.run(all_w_dst, randomize_noise=False, **synthesis_kwargs)\n",
    "        if text:\n",
    "            new_im = PIL.Image.new('RGB', (512, 600))\n",
    "            new_im.paste(PIL.Image.fromarray(np.median(all_images_src, axis=0).astype(np.uint8)), (0, 0))\n",
    "            draw = ImageDraw.Draw(new_im)\n",
    "            font = ImageFont.truetype(\"/usr/share/fonts/truetype/liberation/LiberationSans-Regular.ttf\", size=16)\n",
    "            draw.text((10, 512), \"{:0.2f}\".format((1-blend)), (255, 0, 0), font=font)\n",
    "            draw.text((50, 512), str(seed_array[src_i]), (255, 255, 255), font=font)\n",
    "            draw.text((10, 550), \"{:0.2f}\".format((blend)), (0, 255, 0), font=font)\n",
    "            draw.text((50, 550), str(seed_array[dst_i]), (255, 255, 255), font=font)\n",
    "            return np.array(new_im)\n",
    "        else:\n",
    "            return all_images_src[0]\n",
    "\n",
    "    \n",
    "    import moviepy.editor\n",
    "    from datetime import datetime\n",
    "    now = datetime.now()\n",
    "\n",
    "    np.save(now.isoformat() + \".npy\", all_w)\n",
    "    mp4_file = '%s.mp4' % (now)\n",
    "    if filename:\n",
    "        mp4_file = filename\n",
    "    mp4_codec = 'libx264'\n",
    "    mp4_bitrate = '5M'\n",
    "\n",
    "    video_clip = moviepy.editor.VideoClip(make_frame, duration=duration_sec)\n",
    "    video_clip.write_videofile(mp4_file, fps=mp4_fps, codec=mp4_codec, bitrate=mp4_bitrate)\n",
    "    \n",
    "    return mp4_file"
   ]
  },
  {
   "cell_type": "code",
   "execution_count": null,
   "metadata": {
    "id": "8DZJM9u8cuOa"
   },
   "outputs": [],
   "source": [
    "import glob\n",
    "def preview_files():\n",
    "    for file in sorted(glob.glob(\"*.npy\")):\n",
    "      try:\n",
    "        truncation = 1\n",
    "        print(file)\n",
    "        w = np.load(file)\n",
    "        noise_vars = [var for name, var in Gs.components.synthesis.vars.items() if name.startswith('noise')]\n",
    "        Gs_kwargs = dnnlib.EasyDict()\n",
    "        Gs_kwargs.randomize_noise = False\n",
    "\n",
    "\n",
    "        if truncation != 1:\n",
    "            w_avg = Gs.get_var('dlatent_avg')\n",
    "            all_w = w_avg + (all_w - w_avg) * truncation # [minibatch, layer, component]\n",
    "\n",
    "        generate_image_from_w(w, truncation)\n",
    "      except:\n",
    "        print(\"Error\")"
   ]
  },
  {
   "cell_type": "code",
   "execution_count": null,
   "metadata": {
    "id": "J5ibOSNnrcwx"
   },
   "outputs": [],
   "source": [
    "from IPython.display import display, HTML\r\n",
    "\r\n",
    "from IPython.display import HTML\r\n",
    "\r\n",
    "def display_mp4(path):\r\n",
    "    print(f'Read from {path}')\r\n",
    "    from base64 import b64encode\r\n",
    "    mp4 = open(path,'rb').read()\r\n",
    "    data_url = \"data:video/mp4;base64,\" + b64encode(mp4).decode()\r\n",
    "    display(HTML(\"\"\"\r\n",
    "    <video controls loop autoplay>\r\n",
    "        <source src=\"%s\" type=\"video/mp4\">\r\n",
    "    </video>\r\n",
    "    \"\"\" % data_url))\r\n",
    "    print('Display finished.')"
   ]
  },
  {
   "cell_type": "markdown",
   "metadata": {
    "id": "lPgEF2KJdQVa"
   },
   "source": [
    "# Generate animation"
   ]
  },
  {
   "cell_type": "code",
   "execution_count": null,
   "metadata": {
    "id": "5Odp38W4eiG9"
   },
   "outputs": [],
   "source": [
    "!error Causing an error so the following cells are not run automatically...."
   ]
  },
  {
   "cell_type": "markdown",
   "metadata": {
    "id": "DRsRrdPOdTXB"
   },
   "source": [
    "Run this cell to preview all of the snapshots you've saved:"
   ]
  },
  {
   "cell_type": "code",
   "execution_count": null,
   "metadata": {
    "id": "jSR8e6-vdZ1F"
   },
   "outputs": [],
   "source": [
    "preview_files()"
   ]
  },
  {
   "cell_type": "markdown",
   "metadata": {
    "id": "1X0NR73xdbyF"
   },
   "source": [
    "List all of the files you want to animate between:"
   ]
  },
  {
   "cell_type": "code",
   "execution_count": null,
   "metadata": {
    "id": "QzhiuZKrdSPD"
   },
   "outputs": [],
   "source": [
    "ws = '''\n",
    "pose1.npy\n",
    "pose2.npy\n",
    "pose3.npy\n",
    "'''.split()\n",
    "ws\n"
   ]
  },
  {
   "cell_type": "markdown",
   "metadata": {
    "id": "sU9URd9ld1ag"
   },
   "source": [
    "Run this to generate the animation:"
   ]
  },
  {
   "cell_type": "code",
   "execution_count": null,
   "metadata": {
    "id": "8_6bjmW4dqt5"
   },
   "outputs": [],
   "source": [
    "w_arr = []\n",
    "for w in ws:\n",
    "    w_val = np.load(w)\n",
    "    w_arr.append(w_val)\n",
    "\n",
    "output_file = interpolate_between_ws(w_arr, duration_sec = 2.0, smoothing_sec = 1.0, mp4_fps = 30)"
   ]
  },
  {
   "cell_type": "code",
   "execution_count": null,
   "metadata": {
    "id": "nolFjDccrf0U"
   },
   "outputs": [],
   "source": [
    "display_mp4(output_file)"
   ]
  },
  {
   "cell_type": "markdown",
   "metadata": {
    "id": "IbQdPjyCd3xO"
   },
   "source": [
    "Run this to download the animation:"
   ]
  },
  {
   "cell_type": "code",
   "execution_count": null,
   "metadata": {
    "id": "JK2cYFMwd5gK"
   },
   "outputs": [],
   "source": [
    "from google.colab import files\n",
    "files.download(output_file) "
   ]
  }
 ],
 "metadata": {
  "accelerator": "GPU",
  "colab": {
   "collapsed_sections": [
    "RIW4gdO1cjnm"
   ],
   "name": "TADNE Editor - DeepDanbooru Dirs.ipynb",
   "private_outputs": true,
   "provenance": [],
   "toc_visible": true
  },
  "kernelspec": {
   "display_name": "Python 3",
   "name": "python3"
  }
 },
 "nbformat": 4,
 "nbformat_minor": 0
}
